{
 "cells": [
  {
   "cell_type": "markdown",
   "metadata": {},
   "source": [
    "Ejercicio: Uso de funciones en Python"
   ]
  },
  {
   "cell_type": "code",
   "execution_count": 24,
   "metadata": {},
   "outputs": [],
   "source": [
    "def informe(tanque_uno, tanque_dos, tanque_tres):\n",
    "  total_average = (tanque_uno + tanque_dos + tanque_tres) / 3\n",
    "  return f\"\"\"Informe tanques:\n",
    "  Promedio: {total_average}%\n",
    "  Tanque uno: {tanque_uno}%\n",
    "  Tanque dos: {tanque_dos}%\n",
    "  Tanque tres: {tanque_tres}% \n",
    "  \"\"\""
   ]
  },
  {
   "cell_type": "code",
   "execution_count": 25,
   "metadata": {},
   "outputs": [
    {
     "name": "stdout",
     "output_type": "stream",
     "text": [
      "Informe tanques:\n",
      "  Promedio: 37.333333333333336%\n",
      "  Tanque uno: 20%\n",
      "  Tanque dos: 50%\n",
      "  Tanque tres: 42% \n",
      "  \n"
     ]
    }
   ],
   "source": [
    "print(informe(20, 50, 42))"
   ]
  },
  {
   "cell_type": "code",
   "execution_count": 26,
   "metadata": {},
   "outputs": [],
   "source": [
    "def promedio(valores):\n",
    "  return sum(valores) / len(valores)"
   ]
  },
  {
   "cell_type": "code",
   "execution_count": 27,
   "metadata": {},
   "outputs": [],
   "source": [
    "def informe(tanque_uno, tanque_dos, tanque_tres):\n",
    "  return f\"\"\"Informe tanques:\n",
    "  Promedio: {promedio([tanque_uno, tanque_dos, tanque_tres])}%\n",
    "  Tanque uno: {tanque_uno}%\n",
    "  Tanque dos: {tanque_dos}%\n",
    "  Tanque tres: {tanque_tres}% \n",
    "  \"\"\""
   ]
  },
  {
   "cell_type": "code",
   "execution_count": 28,
   "metadata": {},
   "outputs": [
    {
     "name": "stdout",
     "output_type": "stream",
     "text": [
      "Informe tanques:\n",
      "  Promedio: 78.0%\n",
      "  Tanque uno: 88%\n",
      "  Tanque dos: 76%\n",
      "  Tanque tres: 70% \n",
      "  \n"
     ]
    }
   ],
   "source": [
    "print(informe(88, 76, 70))"
   ]
  },
  {
   "cell_type": "markdown",
   "metadata": {},
   "source": [
    "Ejercicio 2: Trabajo con argumentos de palabra clave"
   ]
  },
  {
   "cell_type": "code",
   "execution_count": null,
   "metadata": {},
   "outputs": [],
   "source": [
    "def informe_mision(prelanzamiento, tiempo_vuelo, destino, tanque_externo, tanque_interno):\n",
    "    return f\"\"\"\n",
    "    Mision a {destino}\n",
    "    Tiempo total viaje: {prelanzamiento + tiempo_vuelo} min\n",
    "    Combustible restante: {tanque_externo + tanque_interno} lts\n",
    "    \"\"\"\n",
    "\n",
    "print(informe_mision(14, 51, \"Luna\", 200000, 300000))"
   ]
  },
  {
   "cell_type": "code",
   "execution_count": null,
   "metadata": {},
   "outputs": [],
   "source": [
    "def informe_mision(destino, *minutos, **reserva_combustible):\n",
    "    return f\"\"\"\n",
    "    Mision a {destino}\n",
    "    Tiempo total viaje: {sum(minutos)} minutos\n",
    "    Combustible restante: {sum(reserva_combustible.values())}\n",
    "    \"\"\"\n",
    "\n",
    "print(informe_mision(\"Luna\", 10, 15, 51, main=300000, external=200000))"
   ]
  },
  {
   "cell_type": "code",
   "execution_count": null,
   "metadata": {},
   "outputs": [],
   "source": [
    "def informe_mision(destino, *minutos, **reserva_combustible):\n",
    "    reporte_principal = f\"\"\"\n",
    "    Mision a {destino}\n",
    "    Tiempo total viaje: {sum(minutos)} minutos\n",
    "    Combustible restante: {sum(reserva_combustible.values())}\n",
    "    \"\"\"\n",
    "    for nombre_tanque, litros in reserva_combustible.items():\n",
    "        reporte_principal += f\"{nombre_tanque} tanque --> {litros} litros restantes\\n\"\n",
    "    return reporte_principal\n",
    "\n",
    "print(informe_mision(\"Luna\", 8, 11, 55, interno=300000, externo=200000))"
   ]
  }
 ],
 "metadata": {
  "interpreter": {
   "hash": "c11c9363c6ff4e6ab84142e8caa17ed2d87881a03b5ac4c1620a0d9e3a3549c9"
  },
  "kernelspec": {
   "display_name": "Python 3.8.8 ('base')",
   "language": "python",
   "name": "python3"
  },
  "language_info": {
   "codemirror_mode": {
    "name": "ipython",
    "version": 3
   },
   "file_extension": ".py",
   "mimetype": "text/x-python",
   "name": "python",
   "nbconvert_exporter": "python",
   "pygments_lexer": "ipython3",
   "version": "3.8.8"
  },
  "orig_nbformat": 4
 },
 "nbformat": 4,
 "nbformat_minor": 2
}
