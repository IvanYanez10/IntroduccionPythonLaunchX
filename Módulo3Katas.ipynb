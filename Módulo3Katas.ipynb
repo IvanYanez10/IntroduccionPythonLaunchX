{
 "cells": [
  {
   "cell_type": "code",
   "execution_count": 2,
   "metadata": {},
   "outputs": [
    {
     "name": "stdout",
     "output_type": "stream",
     "text": [
      "Advertencia velocidad del asteroide excesiva\n"
     ]
    }
   ],
   "source": [
    "velocidad = 49\n",
    "if int(velocidad)>25:\n",
    "  print(\"Advertencia velocidad del asteroide excesiva\")\n",
    "else:\n",
    "    print(\"Sin problema\")"
   ]
  },
  {
   "cell_type": "code",
   "execution_count": 3,
   "metadata": {},
   "outputs": [],
   "source": [
    "velocidad = 19\n",
    "if velocidad>=20:\n",
    "  print(\"Se puede ver un asteroide en el cielo\")\n",
    "else:\n",
    "    print(\"Asteroide no visible\")"
   ]
  },
  {
   "cell_type": "code",
   "execution_count": 5,
   "metadata": {},
   "outputs": [
    {
     "name": "stdout",
     "output_type": "stream",
     "text": [
      "mucho daño\n",
      "Advertencia velocidad del asteroide excesiva\n"
     ]
    }
   ],
   "source": [
    "velocidad = input(\"Velocidad asteroide: \")\n",
    "diametro = input(\"Tamaño asteroide: \")\n",
    "if int(velocidad)>25 and (int(diametro)>25 and int(diametro)<1000):\n",
    "  print(\"Asteroide muy grande puede casusar grandes daños\")\n",
    "elif velocidad>=20:\n",
    "  print(\"Se puede ver un asteroide en el cielo\")\n",
    "else:\n",
    "  print(\"Sin problema\")"
   ]
  }
 ],
 "metadata": {
  "interpreter": {
   "hash": "98d09c4cbd2226204bb52afdd7c74d12e20cdeb0f3d1ad23eb28349568a560ae"
  },
  "kernelspec": {
   "display_name": "Python 3.7.5 64-bit ('env': venv)",
   "language": "python",
   "name": "python3"
  },
  "language_info": {
   "codemirror_mode": {
    "name": "ipython",
    "version": 3
   },
   "file_extension": ".py",
   "mimetype": "text/x-python",
   "name": "python",
   "nbconvert_exporter": "python",
   "pygments_lexer": "ipython3",
   "version": "3.8.8"
  },
  "orig_nbformat": 4
 },
 "nbformat": 4,
 "nbformat_minor": 2
}
